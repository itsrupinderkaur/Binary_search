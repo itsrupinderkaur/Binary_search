{
 "cells": [
  {
   "cell_type": "code",
   "execution_count": 1,
   "metadata": {},
   "outputs": [],
   "source": [
    "#to find the number in a given list"
   ]
  },
  {
   "cell_type": "code",
   "execution_count": 1,
   "metadata": {},
   "outputs": [],
   "source": [
    "def binary_search():\n",
    "    a = int(input(\"Please select any number from 0 to 8\"))\n",
    "    mid=0\n",
    "    while lis!=[] or a!=mid:\n",
    "        if len(lis)%2==0:\n",
    "            mid = int(len(lis)/2)\n",
    "        else:\n",
    "            mid = int((len(lis)+1)/2)\n",
    "        if a>lis[mid]:\n",
    "            del lis[:mid]\n",
    "        elif a<lis[mid]:\n",
    "            del lis[mid:]\n",
    "        else:\n",
    "            if lis == []:\n",
    "                print(\"number is not in the list\")\n",
    "            elif a == lis[mid]:\n",
    "                print(\"number is found in the list\")\n",
    "            break\n",
    "        \n",
    "            "
   ]
  },
  {
   "cell_type": "code",
   "execution_count": null,
   "metadata": {},
   "outputs": [],
   "source": [
    "lis=[]\n",
    "for i in range(0,9,2):\n",
    "    lis.append(i)\n",
    "binary_search() "
   ]
  },
  {
   "cell_type": "code",
   "execution_count": null,
   "metadata": {},
   "outputs": [],
   "source": []
  },
  {
   "cell_type": "code",
   "execution_count": null,
   "metadata": {},
   "outputs": [],
   "source": []
  },
  {
   "cell_type": "code",
   "execution_count": null,
   "metadata": {},
   "outputs": [],
   "source": []
  }
 ],
 "metadata": {
  "kernelspec": {
   "display_name": "Python 3",
   "language": "python",
   "name": "python3"
  },
  "language_info": {
   "codemirror_mode": {
    "name": "ipython",
    "version": 3
   },
   "file_extension": ".py",
   "mimetype": "text/x-python",
   "name": "python",
   "nbconvert_exporter": "python",
   "pygments_lexer": "ipython3",
   "version": "3.7.4"
  }
 },
 "nbformat": 4,
 "nbformat_minor": 2
}
